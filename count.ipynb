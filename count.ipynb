{
 "cells": [
  {
   "cell_type": "code",
   "execution_count": 45,
   "metadata": {},
   "outputs": [
    {
     "name": "stdout",
     "output_type": "stream",
     "text": [
      "processing report  sample_report.json\n",
      "processing report  nod12.json\n",
      "processing report  sample_report 2.json\n",
      "processing report  nok66.json\n"
     ]
    }
   ],
   "source": [
    "import csv\n",
    "import os\n",
    "import json\n",
    "from jsonpath_ng.ext import parse\n",
    "import pandas\n",
    "\n",
    "ICD10_CODE = parse('$..CodeList[?(@.Kat==\"ICD10\")].Code')\n",
    "\n",
    "def file_to_code(json_file):\n",
    "    with open(json_file) as jf:\n",
    "        data = json.load(jf)\n",
    "        return [ match.value for match in ICD10_CODE.find(data) ]\n",
    "\n",
    "def excel_to_codes(excel_file='codes/Code_Lists_ETEV_Hemo_ETEA_20200228.xlsx'):    \n",
    "    icd10codes = []\n",
    "    icd10_2_codes = []\n",
    "    sheets = pandas.read_excel(excel_file, sheet_name=None)\n",
    "\n",
    "    for name, sheet in sheets.items():\n",
    "        try:\n",
    "            icd10codes.extend(sheet['ICD10GM_code'].tolist())\n",
    "            icd10_2_codes.extend(sheet['ICD10GM2_code2'].tolist())\n",
    "        except KeyError:\n",
    "            i=0\n",
    "\n",
    "    pandas.DataFrame(icd10codes).to_csv('icd10codes.tsv',index=False)\n",
    "    pandas.DataFrame(icd10_2_codes).to_csv('icd10_2_codes.tsv',index=False)\n",
    "    return set(icd10codes) | set(icd10_2_codes)\n",
    "\n",
    "def count(json_directory='data_json'):\n",
    "    total_diagnoses_counter = 0\n",
    "    matching_diagnoses_counter = 0\n",
    "    diagnoses_counter = {}\n",
    "    \n",
    "    for report in os.listdir(json_directory):\n",
    "        if not report.endswith(\".json\"): continue;\n",
    "        print('processing report ', report)\n",
    "\n",
    "        codes = file_to_code(os.path.join(json_directory, report))\n",
    "\n",
    "        total_diagnoses_counter += len(codes)\n",
    "        matching_diagnoses = set(codes) & excel_to_codes()\n",
    "        matching_diagnoses_counter = len(matching_diagnoses)\n",
    "        for match in matching_diagnoses:\n",
    "            if match in diagnoses_counter:\n",
    "                diagnoses_counter[match] += 1\n",
    "            else:\n",
    "                diagnoses_counter[match] = 1\n",
    "\n",
    "    w = csv.writer(open(\"output.csv\", \"w\"))\n",
    "    w.writerow(['total diagnoses', total_diagnoses_counter])\n",
    "    w.writerow(['matching diagnoses', matching_diagnoses_counter])\n",
    "    for key, val in diagnoses_counter.items():\n",
    "        w.writerow([key, val])\n",
    "        \n",
    "count('test_data')"
   ]
  },
  {
   "cell_type": "code",
   "execution_count": 54,
   "metadata": {},
   "outputs": [
    {
     "name": "stdout",
     "output_type": "stream",
     "text": [
      "processing report  sample_report.json\n",
      "processing report  nod12.json\n",
      "processing report  sample_report 2.json\n",
      "processing report  nok66.json\n",
      "{'nod12.json', 'sample_report 2.json', 'sample_report.json'}\n"
     ]
    }
   ],
   "source": [
    "def construct_subset(counts='count.csv',size=300):\n",
    "    import random\n",
    "\n",
    "    diagnoses = codes_to_documents()\n",
    "    \n",
    "    counts = pandas.read_csv('output.csv', index_col=0, squeeze=True).to_dict()\n",
    "    counts.pop('total diagnoses')\n",
    "    total = counts.pop('matching diagnoses')\n",
    "    factor = size/int(total)\n",
    "    \n",
    "    subset = []\n",
    "    \n",
    "    for diagnosis, count in counts.items():\n",
    "        number = int(count * factor) + 1\n",
    "        \n",
    "        if number > len(diagnoses[diagnosis]):\n",
    "            number = len(diagnoses[diagnosis])\n",
    "        \n",
    "        subset.extend(random.sample(diagnoses[diagnosis], number))\n",
    "        \n",
    "    subset = set(subset)\n",
    "    with open('subset.txt','w') as outfile:\n",
    "        outfile.write(\"\\n\".join(subset))\n",
    "    print(subset)\n",
    "\n",
    "    \n",
    "    \n",
    "def codes_to_documents(inpath='test_data'):\n",
    "    all_codes = excel_to_codes()\n",
    "    diagnoses = {}\n",
    "    \n",
    "    for report in os.listdir(inpath):\n",
    "        if not report.endswith(\".json\"): continue;\n",
    "        print('processing report ', report)\n",
    "\n",
    "        codes = file_to_code(os.path.join(inpath, report))\n",
    "\n",
    "        matching_diagnoses = set(codes) & all_codes\n",
    "        matching_diagnoses_counter = len(matching_diagnoses)\n",
    "        for match in matching_diagnoses:\n",
    "            if match in diagnoses:\n",
    "                diagnoses[match].append(report)\n",
    "            else:\n",
    "                diagnoses[match] = [report]\n",
    "        \n",
    "    return diagnoses"
   ]
  },
  {
   "cell_type": "code",
   "execution_count": null,
   "metadata": {},
   "outputs": [],
   "source": []
  },
  {
   "cell_type": "code",
   "execution_count": null,
   "metadata": {},
   "outputs": [],
   "source": []
  }
 ],
 "metadata": {
  "kernelspec": {
   "display_name": "Python 3",
   "language": "python",
   "name": "python3"
  },
  "language_info": {
   "codemirror_mode": {
    "name": "ipython",
    "version": 3
   },
   "file_extension": ".py",
   "mimetype": "text/x-python",
   "name": "python",
   "nbconvert_exporter": "python",
   "pygments_lexer": "ipython3",
   "version": "3.8.2"
  }
 },
 "nbformat": 4,
 "nbformat_minor": 4
}
