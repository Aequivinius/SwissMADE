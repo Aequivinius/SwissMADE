{
 "cells": [
  {
   "cell_type": "code",
   "execution_count": 6,
   "metadata": {},
   "outputs": [
    {
     "name": "stdout",
     "output_type": "stream",
     "text": [
      "Found {'Titel': 'Beurteilung', 'Inhalt': 'Elektiver Eintritt zur diagnostischen Bronchoskopie beim hochgradigem Verdacht auf ein Lungenkarzinom in Unterlappen rechts bei FDG-Aufnahme in dem Bereich. \\nEine im ORGANISATION im September durchgeführte Bronchoskopie ergab keine wegweisenden Befunde (Biopsien: Fibroelastose, Vermehrung Granulozyten Neutrophilen). Bei St.n. Plattenepithelkarzinom des rechten Unterlappens Stadium IIB und St.n. stereotaktischer Radiotherapie führten wir eine Rebronchoskopie mit TBB-Entnahme durch. \\nLaborchemisch wiesen wir eine Leukozytose, welche wir auf der Cortisontherapie zurückführten. \\nDie histologischen Befunden waren beim Austritt noch ausstehend und werden mit dem Patienten ambulant diskutiert.\\nPostinterventionell komplikationloser Verlauf. Am 23.06.2017 konnte der Patient in gutem Allgemeinzustand nach Hause entlassen werden.'}\n"
     ]
    }
   ],
   "source": [
    "import json\n",
    "\n",
    "f = open('data/sample_report.json','r')\n",
    "g = json.load(f)\n",
    "\n",
    "def findall(g):\n",
    "    found = {}\n",
    "    findall_inside(g,found)\n",
    "    return found\n",
    "            \n",
    "def findall_inside(g,found):\n",
    "    \n",
    "    if isinstance(g,str):\n",
    "        return\n",
    "    \n",
    "    if isinstance(g,list):\n",
    "        for h in g:\n",
    "            findall_inside(h,found)\n",
    "        return\n",
    "    \n",
    "    if all(h in g.keys() for h in ['Titel','Text']):\n",
    "        found[g['Titel']] = g['Text']\n",
    "    elif all(h in g.keys() for h in ['Titel','Inhalt']):\n",
    "        print('Found',g)\n",
    "        found[g['Titel']] = g['Inhalt']\n",
    "    for key, item in g.items():\n",
    "        findall_inside(item,found)\n",
    "            \n",
    "def write_intermediary(intermediary,outfile):\n",
    "    outstring = ''\n",
    "    for key, item in intermediary.items():\n",
    "            outstring += key + '\\n'\n",
    "            outstring += item + '\\n\\n'\n",
    "    with open(outfile, 'w') as g:\n",
    "        g.write(outstring.strip())\n",
    "        \n",
    "            \n",
    "found = findall(g)\n",
    "write_intermediary(found,'data/extracted.txt')\n",
    "\n"
   ]
  },
  {
   "cell_type": "code",
   "execution_count": null,
   "metadata": {},
   "outputs": [],
   "source": []
  }
 ],
 "metadata": {
  "kernelspec": {
   "display_name": "Python 3",
   "language": "python",
   "name": "python3"
  },
  "language_info": {
   "codemirror_mode": {
    "name": "ipython",
    "version": 3
   },
   "file_extension": ".py",
   "mimetype": "text/x-python",
   "name": "python",
   "nbconvert_exporter": "python",
   "pygments_lexer": "ipython3",
   "version": "3.7.1"
  }
 },
 "nbformat": 4,
 "nbformat_minor": 2
}
