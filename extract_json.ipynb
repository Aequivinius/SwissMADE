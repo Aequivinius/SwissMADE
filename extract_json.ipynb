{
 "cells": [
  {
   "cell_type": "code",
   "execution_count": 45,
   "metadata": {},
   "outputs": [],
   "source": [
    "import json\n",
    "\n",
    "f = open('sample_report.json','r')\n",
    "g = json.load(f)\n",
    "\n",
    "def findall(g):\n",
    "    found = {}\n",
    "    findall_inside(g,found)\n",
    "    return found\n",
    "            \n",
    "def findall_inside(g,found):\n",
    "    \n",
    "    if isinstance(g,str):\n",
    "        return\n",
    "    if isinstance(g,list):\n",
    "        return\n",
    "    # print(g.keys())\n",
    "    if all(h in g.keys() for h in ['Titel','Text']):\n",
    "        #print('FOUND: ', g)\n",
    "        found[g['Titel']] = g['Text']\n",
    "    else:\n",
    "        for key, item in g.items():\n",
    "            findall_inside(item,found)\n",
    "            \n",
    "def write_intermediary(intermediary,outfile):\n",
    "    outstring = ''\n",
    "    for key, item in intermediary.items():\n",
    "            outstring += key + '\\n'\n",
    "            outstring += item + '\\n\\n'\n",
    "    with open(outfile, 'w') as g:\n",
    "        g.write(outstring.strip())\n",
    "        \n",
    "            \n",
    "found = findall(g)\n",
    "write_intermediary(found,'extracted.txt')\n",
    "\n"
   ]
  },
  {
   "cell_type": "code",
   "execution_count": null,
   "metadata": {},
   "outputs": [],
   "source": []
  }
 ],
 "metadata": {
  "kernelspec": {
   "display_name": "Python 3",
   "language": "python",
   "name": "python3"
  },
  "language_info": {
   "codemirror_mode": {
    "name": "ipython",
    "version": 3
   },
   "file_extension": ".py",
   "mimetype": "text/x-python",
   "name": "python",
   "nbconvert_exporter": "python",
   "pygments_lexer": "ipython3",
   "version": "3.7.1"
  }
 },
 "nbformat": 4,
 "nbformat_minor": 2
}
