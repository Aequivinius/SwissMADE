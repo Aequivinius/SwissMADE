{
 "cells": [
  {
   "cell_type": "code",
   "execution_count": 13,
   "metadata": {},
   "outputs": [],
   "source": [
    "import json\n",
    "\n",
    "def findall(g):\n",
    "    found = {}\n",
    "    findall_inside(g,found)\n",
    "    return found\n",
    "            \n",
    "def findall_inside(g,found):\n",
    "    \n",
    "    if isinstance(g,str):\n",
    "        return\n",
    "    \n",
    "    if isinstance(g,list):\n",
    "        for h in g:\n",
    "            findall_inside(h,found)\n",
    "        return\n",
    "    \n",
    "    if all(h in g.keys() for h in ['Titel','Text']):\n",
    "        found[g['Titel']] = g['Text']\n",
    "    elif all(h in g.keys() for h in ['Titel','Inhalt']):\n",
    "        found[g['Titel']] = g['Inhalt']\n",
    "    for key, item in g.items():\n",
    "        findall_inside(item,found)\n",
    "            \n",
    "def write_intermediary(intermediary,outfile):\n",
    "    outstring = ''\n",
    "    for key, item in intermediary.items():\n",
    "            outstring += key + '\\n'\n",
    "            outstring += item + '\\n\\n'\n",
    "    with open(outfile, 'w') as g:\n",
    "        g.write(outstring.strip())\n",
    "\n",
    "import os\n",
    "for file in os.listdir(\"../data_200\"):\n",
    "    if file.endswith(\".json\"):\n",
    "        \n",
    "        fname = os.path.join(\"../data_200\", file)\n",
    "        f = open(fname)\n",
    "        \n",
    "        errors = open('errors_log.txt','w')\n",
    "        try:\n",
    "            g = json.load(f)\n",
    "            found = findall(g)\n",
    "            write_intermediary(found,'../data_extracted/' + file)\n",
    "        except Exception as e:\n",
    "            errors.write(fname + '\\n')\n",
    "            print(e)\n",
    "            \n"
   ]
  },
  {
   "cell_type": "code",
   "execution_count": null,
   "metadata": {},
   "outputs": [],
   "source": []
  }
 ],
 "metadata": {
  "kernelspec": {
   "display_name": "Python 3",
   "language": "python",
   "name": "python3"
  },
  "language_info": {
   "codemirror_mode": {
    "name": "ipython",
    "version": 3
   },
   "file_extension": ".py",
   "mimetype": "text/x-python",
   "name": "python",
   "nbconvert_exporter": "python",
   "pygments_lexer": "ipython3",
   "version": "3.7.1"
  }
 },
 "nbformat": 4,
 "nbformat_minor": 2
}
