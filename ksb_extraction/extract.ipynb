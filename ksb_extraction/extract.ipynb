{
 "cells": [
  {
   "cell_type": "code",
   "execution_count": 20,
   "metadata": {},
   "outputs": [],
   "source": [
    "import csv\n",
    "import json\n",
    "import flatten_json\n",
    "from tqdm.auto import tqdm"
   ]
  },
  {
   "cell_type": "code",
   "execution_count": 17,
   "metadata": {},
   "outputs": [
    {
     "name": "stdout",
     "output_type": "stream",
     "text": [
      "['version', 'reportnr_labor_ano', 'patnr_ano', 'fallnr_ano', 'dat_sekunden_nach_fall_eindat', 'content_ano']\n"
     ]
    }
   ],
   "source": [
    "def file_to_headers(in_path):\n",
    "    w = open(in_path, encoding=\"utf-8\")\n",
    "    reader = csv.reader(w, delimiter='\\t')\n",
    "    headers = next(reader)\n",
    "    w.close()\n",
    "    return headers\n",
    "\n",
    "in_path = 'laborwerte/dump.txt'\n",
    "original_headers = file_to_headers(in_path)\n",
    "print(original_headers)"
   ]
  },
  {
   "cell_type": "code",
   "execution_count": 21,
   "metadata": {},
   "outputs": [
    {
     "data": {
      "application/vnd.jupyter.widget-view+json": {
       "model_id": "494dbc55420d4a4bbacbf3504ea7d7de",
       "version_major": 2,
       "version_minor": 0
      },
      "text/plain": [
       "0it [00:00, ?it/s]"
      ]
     },
     "metadata": {},
     "output_type": "display_data"
    }
   ],
   "source": [
    "def file_to_list(in_path, error_path):\n",
    "    reports = []\n",
    "    with open(in_path) as csv_file, open(error_path, 'w') as error_file:\n",
    "        reader = csv.DictReader(csv_file, delimiter='\\t')\n",
    "        for row in tqdm(reader):\n",
    "            report = dict((k, row[k]) for k in row if k in original_headers[:7])\n",
    "            try:\n",
    "                pruned = row['content_ano'].replace(\"'\", \"\")\n",
    "                j = json.loads(pruned)\n",
    "                j = flatten_json.flatten(j)\n",
    "                report.update(j)\n",
    "                reports.append(report)\n",
    "            except Error as e:  \n",
    "                error_file.write(row['content_ano'])\n",
    "                print(\"Error during loading {}\".format(row['reportnr_ano']))\n",
    "    return reports\n",
    "\n",
    "in_path = 'laborwerte/dump.txt'\n",
    "error_path = 'errors.txt'\n",
    "reports = file_to_list(in_path, error_path)"
   ]
  },
  {
   "cell_type": "code",
   "execution_count": 22,
   "metadata": {},
   "outputs": [
    {
     "name": "stdout",
     "output_type": "stream",
     "text": [
      "['version', 'reportnr_labor_ano', 'patnr_ano', 'fallnr_ano', 'dat_sekunden_nach_fall_eindat', '5HIEQUO:STD_DAT', '5HIEQUO:STD_DIM', '5HIEQUO:STD_EINDAT', '5HIEQUO:STD_NAM', '5HIEQUO:STD_REF', '5HIEQUO:STD_RES', '5HIEQUO:STD_RESDAT', '5HIEQUO:STD_STAT', '5HIEX:STD_DAT', '5HIEX:STD_DIM']\n"
     ]
    }
   ],
   "source": [
    "def list_to_headers(haystack):\n",
    "    return set().union(*(h.keys() for h in haystack))\n",
    "\n",
    "def order_headers(headers, order):\n",
    "    headers_without_order_items = list({header for header in headers if header not in order})\n",
    "    return order + sorted(headers_without_order_items)\n",
    "\n",
    "all_headers = list_to_headers(reports)\n",
    "ordered_headers = order_headers(all_headers, original_headers[:-1])\n",
    "print(ordered_headers[:15])"
   ]
  },
  {
   "cell_type": "code",
   "execution_count": 23,
   "metadata": {},
   "outputs": [
    {
     "data": {
      "application/vnd.jupyter.widget-view+json": {
       "model_id": "c44cba1e8dea4f01800d74b0eaef0d1b",
       "version_major": 2,
       "version_minor": 0
      },
      "text/plain": [
       "  0%|          | 0/133479 [00:00<?, ?it/s]"
      ]
     },
     "metadata": {},
     "output_type": "display_data"
    }
   ],
   "source": [
    "def list_to_file(reports, out_path, headers):\n",
    "    with open(out_path, 'w') as out_file:\n",
    "        dict_writer = csv.DictWriter(out_file, fieldnames=headers, delimiter=\",\", quotechar='\"')\n",
    "        dict_writer.writeheader()\n",
    "        dict_writer.writerows(tqdm(reports))\n",
    "\n",
    "out_path = 'laborwerte_converted.csv'\n",
    "list_to_file(reports, out_path, ordered_headers)"
   ]
  },
  {
   "cell_type": "code",
   "execution_count": 24,
   "metadata": {},
   "outputs": [],
   "source": [
    "def tidy_list(reports):\n",
    "    \"\"\"Ensures all reports are a one-dimensional dictionaries.\"\"\"\n",
    "    \n",
    "    for report in reports:\n",
    "        deletes = []\n",
    "        for k, v in report.items():\n",
    "            if not isinstance(v, str):\n",
    "                deletes.append(k)\n",
    "            elif v == \"\":\n",
    "                deletes.append(k)\n",
    "        for delete in deletes:\n",
    "            report.pop(delete)\n",
    "            \n",
    "tidy_list(reports)"
   ]
  },
  {
   "cell_type": "code",
   "execution_count": 27,
   "metadata": {},
   "outputs": [
    {
     "data": {
      "application/vnd.jupyter.widget-view+json": {
       "model_id": "934da833d9b24e289968976f66169c8e",
       "version_major": 2,
       "version_minor": 0
      },
      "text/plain": [
       "  0%|          | 0/133479 [00:00<?, ?it/s]"
      ]
     },
     "metadata": {},
     "output_type": "display_data"
    }
   ],
   "source": [
    "import os\n",
    "def list_to_files(reports, out_directory, headers):\n",
    "    for report in tqdm(reports):\n",
    "        # reportnr_ano for berichte\n",
    "        out_path = os.path.join(out_directory, report['reportnr_labor_ano'] + \".txt\")\n",
    "        with open(out_path, 'w') as out_file:\n",
    "            for header in headers:\n",
    "                if header in report:\n",
    "                    if not isinstance(report[header], str):\n",
    "                        print(report[header])\n",
    "                    out_file.write(header.upper() + \"\\n\")\n",
    "                    out_file.write(report[header] + \"\\n\\n\")\n",
    "\n",
    "out_directory = 'laborwerte_converted'\n",
    "list_to_files(reports, out_directory, ordered_headers)"
   ]
  },
  {
   "cell_type": "code",
   "execution_count": null,
   "metadata": {},
   "outputs": [],
   "source": []
  }
 ],
 "metadata": {
  "kernelspec": {
   "display_name": "Python 3",
   "language": "python",
   "name": "python3"
  },
  "language_info": {
   "codemirror_mode": {
    "name": "ipython",
    "version": 3
   },
   "file_extension": ".py",
   "mimetype": "text/x-python",
   "name": "python",
   "nbconvert_exporter": "python",
   "pygments_lexer": "ipython3",
   "version": "3.9.6"
  }
 },
 "nbformat": 4,
 "nbformat_minor": 4
}
