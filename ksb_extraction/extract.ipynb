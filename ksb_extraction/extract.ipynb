{
 "cells": [
  {
   "cell_type": "code",
   "execution_count": 1,
   "metadata": {},
   "outputs": [],
   "source": [
    "import csv\n",
    "import json\n",
    "import flatten_json"
   ]
  },
  {
   "cell_type": "code",
   "execution_count": 75,
   "metadata": {},
   "outputs": [
    {
     "name": "stdout",
     "output_type": "stream",
     "text": [
      "['sender', 'version', 'fcode', 'reportnr_ano', 'patnr_ano', 'fallnr_ano', 'dat_sekunden_nach_fall_eindat', 'mutdat_sekunden_nach_fall_eindat', 'content_ano']\n"
     ]
    }
   ],
   "source": [
    "def file_to_headers(in_path):\n",
    "    w = open(path, encoding=\"utf-8\")\n",
    "    reader = csv.reader(w, delimiter='\\t')\n",
    "    headers = next(reader)\n",
    "    w.close()\n",
    "    return headers\n",
    "\n",
    "in_path = 'bericht/dump.txt'\n",
    "original_headers = file_to_headers(in_path)\n",
    "print(original_headers)"
   ]
  },
  {
   "cell_type": "code",
   "execution_count": 70,
   "metadata": {},
   "outputs": [],
   "source": [
    "def file_to_list(in_path, error_path):\n",
    "    reports = []\n",
    "    with open(in_path) as csv_file, open(error_path, 'w') as error_file:\n",
    "        reader = csv.DictReader(csv_file, delimiter='\\t')\n",
    "        for row in reader:\n",
    "            report = dict((k, row[k]) for k in row if k in original_headers[:7])\n",
    "            try:\n",
    "                pruned = row['content_ano'].replace(\"'\", \"\")\n",
    "                j = json.loads(pruned)\n",
    "                j = flatten_json.flatten(j)\n",
    "                report.update(j)\n",
    "                reports.append(report)\n",
    "            except Error as e:  \n",
    "                error_file.write(row['content_ano'])\n",
    "                print(\"Error during loading {}\".format(row['reportnr_ano']))\n",
    "    return reports\n",
    "\n",
    "in_path = 'bericht/output.txt'\n",
    "error_path = 'errors.txt'\n",
    "reports = file_to_list(in_path, error_path)"
   ]
  },
  {
   "cell_type": "code",
   "execution_count": 127,
   "metadata": {},
   "outputs": [
    {
     "name": "stdout",
     "output_type": "stream",
     "text": [
      "['sender', 'version', 'fcode', 'reportnr_ano', 'patnr_ano', 'fallnr_ano', 'dat_sekunden_nach_fall_eindat', 'ASF_0_Code', 'ASF_0_Kat', 'ASF_10_Code', 'ASF_10_Kat', 'ASF_11_Code', 'ASF_11_Kat', 'ASF_12_Code', 'ASF_12_Kat']\n"
     ]
    }
   ],
   "source": [
    "def list_to_headers(haystack):\n",
    "    return set().union(*(h.keys() for h in haystack))\n",
    "\n",
    "def order_headers(headers, order):\n",
    "    headers_without_order_items = list({header for header in headers if header not in order})\n",
    "    return order + sorted(headers_without_order_items)\n",
    "\n",
    "all_headers = list_to_headers(reports)\n",
    "ordered_headers = order_headers(all_headers, original_headers[:7])\n",
    "print(ordered_headers[:15])"
   ]
  },
  {
   "cell_type": "code",
   "execution_count": 135,
   "metadata": {},
   "outputs": [],
   "source": [
    "def list_to_file(reports, out_path, headers):\n",
    "    with open(out_path, 'w') as out_file:\n",
    "        dict_writer = csv.DictWriter(out_file, fieldnames=headers, delimiter=\",\", quotechar='\"')\n",
    "        dict_writer.writeheader()\n",
    "        dict_writer.writerows(reports[:50])\n",
    "\n",
    "out_path = 'bericht_converted.csv'\n",
    "list_to_file(reports, out_path, ordered_headers)"
   ]
  },
  {
   "cell_type": "code",
   "execution_count": 129,
   "metadata": {},
   "outputs": [],
   "source": [
    "def tidy_list(reports):\n",
    "    \"\"\"Ensures all reports are a one-dimensional dictionaries.\"\"\"\n",
    "    \n",
    "    for report in reports:\n",
    "        deletes = []\n",
    "        for k, v in report.items():\n",
    "            if not isinstance(v, str):\n",
    "                deletes.append(k)\n",
    "            elif v == \"\":\n",
    "                deletes.append(k)\n",
    "        for delete in deletes:\n",
    "            report.pop(delete)\n",
    "            \n",
    "tidy_list(reports)"
   ]
  },
  {
   "cell_type": "code",
   "execution_count": 134,
   "metadata": {},
   "outputs": [],
   "source": [
    "import os\n",
    "def list_to_files(reports, out_directory, headers):\n",
    "    for report in reports:\n",
    "        out_path = os.path.join(out_directory, report['reportnr_ano'] + \".txt\")\n",
    "        with open(out_path, 'w') as out_file:\n",
    "            for header in headers:\n",
    "                if header in report:\n",
    "                    if not isinstance(report[header], str):\n",
    "                        print(report[header])\n",
    "                    out_file.write(header.upper() + \"\\n\")\n",
    "                    out_file.write(report[header] + \"\\n\\n\")\n",
    "\n",
    "out_directory = 'bericht_converted'\n",
    "list_to_files(reports[:50], out_directory, ordered_headers)"
   ]
  },
  {
   "cell_type": "code",
   "execution_count": null,
   "metadata": {},
   "outputs": [],
   "source": []
  }
 ],
 "metadata": {
  "kernelspec": {
   "display_name": "Python 3",
   "language": "python",
   "name": "python3"
  },
  "language_info": {
   "codemirror_mode": {
    "name": "ipython",
    "version": 3
   },
   "file_extension": ".py",
   "mimetype": "text/x-python",
   "name": "python",
   "nbconvert_exporter": "python",
   "pygments_lexer": "ipython3",
   "version": "3.9.5"
  }
 },
 "nbformat": 4,
 "nbformat_minor": 4
}
