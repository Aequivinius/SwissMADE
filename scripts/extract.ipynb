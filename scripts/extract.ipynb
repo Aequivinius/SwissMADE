{
 "cells": [
  {
   "cell_type": "code",
   "execution_count": 9,
   "metadata": {},
   "outputs": [
    {
     "name": "stdout",
     "output_type": "stream",
     "text": [
      "../data/txt/stroke_100/RCHIVIA02-81050158-1C96PA.json\n"
     ]
    },
    {
     "ename": "FileNotFoundError",
     "evalue": "[Errno 2] No such file or directory: '../data/txt/stroke_100/RCHIVIA02-81050158-1C96PA.json'",
     "output_type": "error",
     "traceback": [
      "\u001b[0;31m---------------------------------------------------------------------------\u001b[0m",
      "\u001b[0;31mFileNotFoundError\u001b[0m                         Traceback (most recent call last)",
      "\u001b[0;32m<ipython-input-9-3d8d3eb03ce9>\u001b[0m in \u001b[0;36m<module>\u001b[0;34m\u001b[0m\n\u001b[1;32m     57\u001b[0m                 \u001b[0mprint\u001b[0m\u001b[0;34m(\u001b[0m\u001b[0me\u001b[0m\u001b[0;34m)\u001b[0m\u001b[0;34m\u001b[0m\u001b[0;34m\u001b[0m\u001b[0m\n\u001b[1;32m     58\u001b[0m \u001b[0;34m\u001b[0m\u001b[0m\n\u001b[0;32m---> 59\u001b[0;31m \u001b[0mjson_to_txt\u001b[0m\u001b[0;34m(\u001b[0m\u001b[0minpath\u001b[0m\u001b[0;34m=\u001b[0m\u001b[0;34m\"../data/ade_400\"\u001b[0m\u001b[0;34m,\u001b[0m \u001b[0moutpath\u001b[0m\u001b[0;34m=\u001b[0m\u001b[0;34m\"../data/txt\"\u001b[0m\u001b[0;34m)\u001b[0m\u001b[0;34m\u001b[0m\u001b[0;34m\u001b[0m\u001b[0m\n\u001b[0m",
      "\u001b[0;32m<ipython-input-9-3d8d3eb03ce9>\u001b[0m in \u001b[0;36mjson_to_txt\u001b[0;34m(inpath, outpath)\u001b[0m\n\u001b[1;32m     41\u001b[0m             \u001b[0mnew_inpath\u001b[0m \u001b[0;34m=\u001b[0m \u001b[0mos\u001b[0m\u001b[0;34m.\u001b[0m\u001b[0mpath\u001b[0m\u001b[0;34m.\u001b[0m\u001b[0mjoin\u001b[0m\u001b[0;34m(\u001b[0m\u001b[0minpath\u001b[0m\u001b[0;34m,\u001b[0m \u001b[0mfname\u001b[0m\u001b[0;34m)\u001b[0m\u001b[0;34m\u001b[0m\u001b[0;34m\u001b[0m\u001b[0m\n\u001b[1;32m     42\u001b[0m             \u001b[0mnew_outpath\u001b[0m \u001b[0;34m=\u001b[0m \u001b[0mos\u001b[0m\u001b[0;34m.\u001b[0m\u001b[0mpath\u001b[0m\u001b[0;34m.\u001b[0m\u001b[0mjoin\u001b[0m\u001b[0;34m(\u001b[0m\u001b[0moutpath\u001b[0m\u001b[0;34m,\u001b[0m \u001b[0mfname\u001b[0m\u001b[0;34m)\u001b[0m\u001b[0;34m\u001b[0m\u001b[0;34m\u001b[0m\u001b[0m\n\u001b[0;32m---> 43\u001b[0;31m             \u001b[0mjson_to_txt\u001b[0m\u001b[0;34m(\u001b[0m\u001b[0mnew_inpath\u001b[0m\u001b[0;34m,\u001b[0m \u001b[0mnew_outpath\u001b[0m\u001b[0;34m)\u001b[0m\u001b[0;34m\u001b[0m\u001b[0;34m\u001b[0m\u001b[0m\n\u001b[0m\u001b[1;32m     44\u001b[0m \u001b[0;34m\u001b[0m\u001b[0m\n\u001b[1;32m     45\u001b[0m         \u001b[0;32mif\u001b[0m \u001b[0mfname\u001b[0m\u001b[0;34m.\u001b[0m\u001b[0mendswith\u001b[0m\u001b[0;34m(\u001b[0m\u001b[0;34m\".json\"\u001b[0m\u001b[0;34m)\u001b[0m\u001b[0;34m:\u001b[0m\u001b[0;34m\u001b[0m\u001b[0;34m\u001b[0m\u001b[0m\n",
      "\u001b[0;32m<ipython-input-9-3d8d3eb03ce9>\u001b[0m in \u001b[0;36mjson_to_txt\u001b[0;34m(inpath, outpath)\u001b[0m\n\u001b[1;32m     45\u001b[0m         \u001b[0;32mif\u001b[0m \u001b[0mfname\u001b[0m\u001b[0;34m.\u001b[0m\u001b[0mendswith\u001b[0m\u001b[0;34m(\u001b[0m\u001b[0;34m\".json\"\u001b[0m\u001b[0;34m)\u001b[0m\u001b[0;34m:\u001b[0m\u001b[0;34m\u001b[0m\u001b[0;34m\u001b[0m\u001b[0m\n\u001b[1;32m     46\u001b[0m             \u001b[0mprint\u001b[0m\u001b[0;34m(\u001b[0m\u001b[0mos\u001b[0m\u001b[0;34m.\u001b[0m\u001b[0mpath\u001b[0m\u001b[0;34m.\u001b[0m\u001b[0mjoin\u001b[0m\u001b[0;34m(\u001b[0m\u001b[0moutpath\u001b[0m\u001b[0;34m,\u001b[0m \u001b[0mfname\u001b[0m\u001b[0;34m)\u001b[0m\u001b[0;34m)\u001b[0m\u001b[0;34m\u001b[0m\u001b[0;34m\u001b[0m\u001b[0m\n\u001b[0;32m---> 47\u001b[0;31m             \u001b[0mf\u001b[0m \u001b[0;34m=\u001b[0m \u001b[0mopen\u001b[0m\u001b[0;34m(\u001b[0m\u001b[0mos\u001b[0m\u001b[0;34m.\u001b[0m\u001b[0mpath\u001b[0m\u001b[0;34m.\u001b[0m\u001b[0mjoin\u001b[0m\u001b[0;34m(\u001b[0m\u001b[0moutpath\u001b[0m\u001b[0;34m,\u001b[0m \u001b[0mfname\u001b[0m\u001b[0;34m)\u001b[0m\u001b[0;34m)\u001b[0m\u001b[0;34m\u001b[0m\u001b[0;34m\u001b[0m\u001b[0m\n\u001b[0m\u001b[1;32m     48\u001b[0m \u001b[0;34m\u001b[0m\u001b[0m\n\u001b[1;32m     49\u001b[0m             \u001b[0merrors\u001b[0m \u001b[0;34m=\u001b[0m \u001b[0mopen\u001b[0m\u001b[0;34m(\u001b[0m\u001b[0;34m'errors_log.txt'\u001b[0m\u001b[0;34m,\u001b[0m \u001b[0;34m'w'\u001b[0m\u001b[0;34m)\u001b[0m\u001b[0;34m\u001b[0m\u001b[0;34m\u001b[0m\u001b[0m\n",
      "\u001b[0;31mFileNotFoundError\u001b[0m: [Errno 2] No such file or directory: '../data/txt/stroke_100/RCHIVIA02-81050158-1C96PA.json'"
     ]
    }
   ],
   "source": [
    "import json\n",
    "import os\n",
    "\n",
    "def findall(g):\n",
    "    found = {}\n",
    "    findall_inside(g,found)\n",
    "    return found\n",
    "            \n",
    "def findall_inside(g,found):\n",
    "    \n",
    "    if isinstance(g,str):\n",
    "        return\n",
    "    \n",
    "    if isinstance(g,list):\n",
    "        for h in g:\n",
    "            findall_inside(h,found)\n",
    "        return\n",
    "    \n",
    "    if all(h in g.keys() for h in ['Titel','Text']):\n",
    "        found[g['Titel']] = g['Text']\n",
    "    elif all(h in g.keys() for h in ['Titel','Inhalt']):\n",
    "        found[g['Titel']] = g['Inhalt']\n",
    "    for key, item in g.items():\n",
    "        findall_inside(item,found)\n",
    "            \n",
    "def write_intermediary(intermediary,outfile):\n",
    "    outstring = ''\n",
    "    for key, item in intermediary.items():\n",
    "            outstring += key + '\\n'\n",
    "            outstring += item + '\\n\\n'\n",
    "    with open(outfile, 'w') as g:\n",
    "        g.write(outstring.strip())\n",
    "        \n",
    "def json_to_txt(inpath, outpath):\n",
    "    if not os.path.exists(outpath):\n",
    "        os.makedirs(outpath)\n",
    "    \n",
    "    for fname in os.listdir(inpath):\n",
    "        \n",
    "        if os.path.isdir(os.path.join(inpath,fname)):\n",
    "            new_inpath = os.path.join(inpath, fname)\n",
    "            new_outpath = os.path.join(outpath, fname)\n",
    "            json_to_txt(new_inpath, new_outpath)\n",
    "        \n",
    "        if fname.endswith(\".json\"):\n",
    "            print(os.path.join(outpath, fname))\n",
    "            f = open(os.path.join(outpath, fname))\n",
    "\n",
    "            errors = open('errors_log.txt', 'w')\n",
    "            try:\n",
    "                g = json.load(f)\n",
    "                found = findall(g)\n",
    "                new_outpath = os.path.join(outpath, os.path.basename(fname[:-5] + '.txt'))\n",
    "                write_intermediary(found, new_outpath)\n",
    "            except Exception as e:\n",
    "                errors.write(fname + '\\n')\n",
    "                print(e)\n",
    "\n",
    "json_to_txt(inpath=\"../data/ade_400\", outpath=\"../data/txt\")"
   ]
  },
  {
   "cell_type": "code",
   "execution_count": null,
   "metadata": {},
   "outputs": [],
   "source": []
  }
 ],
 "metadata": {
  "kernelspec": {
   "display_name": "Python 3",
   "language": "python",
   "name": "python3"
  },
  "language_info": {
   "codemirror_mode": {
    "name": "ipython",
    "version": 3
   },
   "file_extension": ".py",
   "mimetype": "text/x-python",
   "name": "python",
   "nbconvert_exporter": "python",
   "pygments_lexer": "ipython3",
   "version": "3.7.7"
  }
 },
 "nbformat": 4,
 "nbformat_minor": 2
}
