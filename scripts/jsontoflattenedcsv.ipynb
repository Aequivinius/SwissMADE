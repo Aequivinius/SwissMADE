{
 "cells": [
  {
   "cell_type": "code",
   "execution_count": 1,
   "metadata": {},
   "outputs": [],
   "source": [
    "import os\n",
    "import csv\n",
    "import json\n",
    "import flatten_json\n",
    "from tqdm.auto import tqdm"
   ]
  },
  {
   "cell_type": "code",
   "execution_count": 8,
   "metadata": {},
   "outputs": [
    {
     "data": {
      "application/vnd.jupyter.widget-view+json": {
       "model_id": "a0936ca065344b2c8905397f5c45680a",
       "version_major": 2,
       "version_minor": 0
      },
      "text/plain": [
       "  0%|          | 0/100 [00:00<?, ?it/s]"
      ]
     },
     "metadata": {},
     "output_type": "display_data"
    }
   ],
   "source": [
    "def directory_to_csv(inpath, outpath):\n",
    "    errors = open('errors_log.txt', 'w+')\n",
    "    \n",
    "    if not os.path.exists(outpath):\n",
    "        os.makedirs(outpath)\n",
    "            \n",
    "    for fname in tqdm(os.listdir(inpath)):\n",
    "        inpath_ = os.path.join(inpath,fname)\n",
    "        outpath_ = os.path.join(outpath, os.path.basename(fname[:-5] + '.csv'))\n",
    "\n",
    "        try:\n",
    "            json_to_csv(inpath_, outpath_)\n",
    "        except Exception as e:\n",
    "            errors.write(fname + '\\n')\n",
    "            print(new_inpath)\n",
    "            print(e)\n",
    "\n",
    "    errors.close()\n",
    "    \n",
    "def json_to_csv(inpath, outpath):\n",
    "    \n",
    "    with open(inpath) as json_file, open(outpath, 'w') as csv_file:\n",
    "        try:\n",
    "            pruned = json_file.read().replace(\"'\", \"\")\n",
    "            j = json.loads(pruned)\n",
    "            j = flatten_json.flatten(j)\n",
    "            \n",
    "            c = csv.DictWriter(csv_file, fieldnames=j.keys(), delimiter=\"\\t\")\n",
    "            c.writeheader()\n",
    "            c.writerow(j)\n",
    "        except Error as e:\n",
    "            with open('errors_log.txt', 'w+') as error_file:\n",
    "                error_file.write(e)\n",
    "                print(\"Error during loading {}\".format(json_file))\n",
    "        \n",
    "    \n",
    "directory_to_csv('../data/ade_400/sev_hemo_100/', '../data/csv/')"
   ]
  },
  {
   "cell_type": "code",
   "execution_count": null,
   "metadata": {},
   "outputs": [],
   "source": []
  }
 ],
 "metadata": {
  "kernelspec": {
   "display_name": "Python 3",
   "language": "python",
   "name": "python3"
  },
  "language_info": {
   "codemirror_mode": {
    "name": "ipython",
    "version": 3
   },
   "file_extension": ".py",
   "mimetype": "text/x-python",
   "name": "python",
   "nbconvert_exporter": "python",
   "pygments_lexer": "ipython3",
   "version": "3.9.6"
  }
 },
 "nbformat": 4,
 "nbformat_minor": 2
}
